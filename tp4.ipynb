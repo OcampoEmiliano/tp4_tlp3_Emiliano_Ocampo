{
 "cells": [
  {
   "cell_type": "markdown",
   "id": "3e4771e8",
   "metadata": {},
   "source": [
    "# Trabajo Practico n4 - Introduccion a numpy.\n",
    "## Criterios de evaluación.\n",
    "\n",
    "* Se deben utilizar nombres de variables descriptivos y claros (Utilizar la nomeclatura correspondiente para los nombres de variables).\n",
    "* Comentarios claros y concisos que expliquen el propósito de cada sección del código.\n",
    "* Utilizar mensajes de commit **descriptivos**. (Puedes utilizar la extension CONVENTIONAL COMMIT de VS-CODE). \n",
    "* Entrega en tiempo y forma.\n",
    "* Todo el código desarrollado debe ser subido a un repositorio en GitHub (el nombre del repositorio de seguir la siguiente estructura: tp4_tlp3_nombre_apellido).\n",
    "* Para resolver las actividades se debe insertar casillas de codigo entre cada actividad del cuaderno de Jupyter\n",
    "\n",
    "### ¡Importante!\n",
    "**El incumplimiento de los criterios de evaluación restará puntos en la nota final del práctico!**"
   ]
  },
  {
   "cell_type": "markdown",
   "id": "6f3340d9",
   "metadata": {},
   "source": [
    "**Importaciones:**"
   ]
  },
  {
   "cell_type": "code",
   "execution_count": 3,
   "id": "783ab170",
   "metadata": {},
   "outputs": [],
   "source": [
    "import numpy as np\n",
    "from random import randint"
   ]
  },
  {
   "cell_type": "markdown",
   "id": "c5ba7292",
   "metadata": {},
   "source": [
    "**Actividad 1:**: Crea un array de NumPy que contenga los números del 0 al 9. (Debes utilizar un metodo de numpy para su creacion.)"
   ]
  },
  {
   "cell_type": "code",
   "execution_count": 4,
   "id": "75029034",
   "metadata": {},
   "outputs": [
    {
     "name": "stdout",
     "output_type": "stream",
     "text": [
      "[0 1 2 3 4 5 6 7 8 9]\n"
     ]
    }
   ],
   "source": [
    "#todo: \n",
    "import numpy as np\n",
    "\n",
    "# Crear un array del 0 al 9\n",
    "array = np.arange(10)\n",
    "\n",
    "print(array)"
   ]
  },
  {
   "cell_type": "markdown",
   "id": "cb894927",
   "metadata": {},
   "source": [
    "**Actividad 2:** Crea un array de 5 ceros, y luego cambia el tercer elemento (índice 2) para que sea 5. (Debes utilizar un metodo de numpy para su creacion.)"
   ]
  },
  {
   "cell_type": "code",
   "execution_count": 6,
   "id": "b9cd04a0",
   "metadata": {},
   "outputs": [
    {
     "name": "stdout",
     "output_type": "stream",
     "text": [
      "[0. 0. 0. 0. 0.]\n",
      "[0. 0. 5. 0. 0.]\n"
     ]
    }
   ],
   "source": [
    "#todo:\n",
    "import numpy as np\n",
    "\n",
    "# Crear un array de 5 ceros\n",
    "array = np.zeros(5)\n",
    "print(array)\n",
    "\n",
    "# Cambiar el tercer elemento (índice 2) a 5\n",
    "array[2] = 5\n",
    "\n",
    "print(array)"
   ]
  },
  {
   "cell_type": "markdown",
   "id": "000352a3",
   "metadata": {},
   "source": [
    "**Actividad 3:** Genera una matriz 3x3 de números aleatorios entre 0 y 1."
   ]
  },
  {
   "cell_type": "code",
   "execution_count": 7,
   "id": "da456dbb",
   "metadata": {},
   "outputs": [
    {
     "name": "stdout",
     "output_type": "stream",
     "text": [
      "[[0.87173616 0.52972717 0.50275507]\n",
      " [0.66938598 0.14634465 0.67194573]\n",
      " [0.33570655 0.6989443  0.35555299]]\n"
     ]
    }
   ],
   "source": [
    "import numpy as np\n",
    "\n",
    "# Generar una matriz 3x3 de números aleatorios entre 0 y 1\n",
    "matriz = np.random.rand(3, 3)\n",
    "\n",
    "print(matriz)"
   ]
  },
  {
   "cell_type": "code",
   "execution_count": null,
   "id": "e74354c9",
   "metadata": {},
   "outputs": [],
   "source": [
    "#todo: \n"
   ]
  },
  {
   "cell_type": "markdown",
   "id": "6611aaf8",
   "metadata": {},
   "source": [
    "**Actividad 4:** Dado el siguiente array `arr = np.array([10, 20, 30, 40, 50])`\n",
    "1. Suma 5 a cada elemento.\n",
    "2. Multiplica todo por un numero aleatorio (utiliza el modulo random para generarlo.)"
   ]
  },
  {
   "cell_type": "code",
   "execution_count": 8,
   "id": "ed416e11",
   "metadata": {},
   "outputs": [
    {
     "name": "stdout",
     "output_type": "stream",
     "text": [
      "Array original: [10 20 30 40 50]\n",
      "Array después de sumar 5: [15 25 35 45 55]\n",
      "Array después de multiplicar por 0.855961220333342: [12.83941831 21.39903051 29.95864271 38.51825492 47.07786712]\n"
     ]
    }
   ],
   "source": [
    "#todo:\n",
    "import numpy as np\n",
    "import random\n",
    "\n",
    "# Array inicial\n",
    "arr = np.array([10, 20, 30, 40, 50])\n",
    "\n",
    "# 1. Sumar 5 a cada elemento\n",
    "arr_suma = arr + 5\n",
    "\n",
    "# 2. Multiplicar por un número aleatorio\n",
    "numero_aleatorio = random.random()  # Genera un número aleatorio entre 0 y 1\n",
    "arr_final = arr_suma * numero_aleatorio\n",
    "\n",
    "print(\"Array original:\", arr)\n",
    "print(\"Array después de sumar 5:\", arr_suma)\n",
    "print(f\"Array después de multiplicar por {numero_aleatorio}:\", arr_final)"
   ]
  },
  {
   "cell_type": "markdown",
   "id": "fbd05c4d",
   "metadata": {},
   "source": [
    "**Actividad 5:** Crea una matriz identidad de tamaño 4x4 (unos en la diagonal principal y ceros en el resto)."
   ]
  },
  {
   "cell_type": "code",
   "execution_count": 9,
   "id": "6811c19f",
   "metadata": {},
   "outputs": [
    {
     "name": "stdout",
     "output_type": "stream",
     "text": [
      "[[1. 0. 0. 0.]\n",
      " [0. 1. 0. 0.]\n",
      " [0. 0. 1. 0.]\n",
      " [0. 0. 0. 1.]]\n"
     ]
    }
   ],
   "source": [
    "#todo:\n",
    "import numpy as np\n",
    "\n",
    "# Crear una matriz identidad de 4x4\n",
    "matriz_identidad = np.eye(4)\n",
    "\n",
    "print(matriz_identidad)"
   ]
  },
  {
   "cell_type": "markdown",
   "id": "3ec18459",
   "metadata": {},
   "source": [
    "**Actividad 6:** Crea un array que comience en 0 hasta el 20, pero que solo tenga numeros pares yu luego realiza las 4 operaciones basicas. (suma, resta, multiplicacion, division)."
   ]
  },
  {
   "cell_type": "code",
   "execution_count": 10,
   "id": "f0c02872",
   "metadata": {},
   "outputs": [
    {
     "name": "stdout",
     "output_type": "stream",
     "text": [
      "Array original: [ 0  2  4  6  8 10 12 14 16 18 20]\n",
      "Array después de la suma: [ 5  7  9 11 13 15 17 19 21 23 25]\n",
      "Array después de la resta: [-3 -1  1  3  5  7  9 11 13 15 17]\n",
      "Array después de la multiplicación: [ 0  4  8 12 16 20 24 28 32 36 40]\n",
      "Array después de la división: [0.  0.5 1.  1.5 2.  2.5 3.  3.5 4.  4.5 5. ]\n"
     ]
    }
   ],
   "source": [
    "#todo: \n",
    "import numpy as np\n",
    "\n",
    "# Crear un array con números pares entre 0 y 20\n",
    "array = np.arange(0, 21, 2)\n",
    "\n",
    "# Operaciones básicas\n",
    "suma = array + 5          # Sumar 5 a cada elemento\n",
    "resta = array - 3         # Restar 3 a cada elemento\n",
    "multiplicacion = array * 2  # Multiplicar por 2 cada elemento\n",
    "division = array / 4      # Dividir cada elemento entre 4\n",
    "\n",
    "# Imprimir resultados\n",
    "print(\"Array original:\", array)\n",
    "print(\"Array después de la suma:\", suma)\n",
    "print(\"Array después de la resta:\", resta)\n",
    "print(\"Array después de la multiplicación:\", multiplicacion)\n",
    "print(\"Array después de la división:\", division)\n"
   ]
  }
 ],
 "metadata": {
  "kernelspec": {
   "display_name": "env",
   "language": "python",
   "name": "python3"
  },
  "language_info": {
   "codemirror_mode": {
    "name": "ipython",
    "version": 3
   },
   "file_extension": ".py",
   "mimetype": "text/x-python",
   "name": "python",
   "nbconvert_exporter": "python",
   "pygments_lexer": "ipython3",
   "version": "3.13.2"
  }
 },
 "nbformat": 4,
 "nbformat_minor": 5
}
